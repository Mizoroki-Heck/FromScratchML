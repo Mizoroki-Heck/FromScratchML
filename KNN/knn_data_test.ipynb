{
 "cells": [
  {
   "cell_type": "code",
   "execution_count": 89,
   "metadata": {},
   "outputs": [],
   "source": [
    "from KNN_classification import KnnClassifire\n",
    "from KNN_regression import KnnRegressor\n",
    "from sklearn import datasets\n",
    "from sklearn.model_selection import train_test_split\n",
    "from sklearn.neighbors import KNeighborsClassifier, KNeighborsRegressor\n",
    "from sklearn.metrics import accuracy_score, r2_score"
   ]
  },
  {
   "cell_type": "markdown",
   "metadata": {},
   "source": [
    "Протестируем на встроенном датасете digits"
   ]
  },
  {
   "cell_type": "code",
   "execution_count": 90,
   "metadata": {},
   "outputs": [],
   "source": [
    "dataset = datasets.load_digits()"
   ]
  },
  {
   "cell_type": "code",
   "execution_count": 91,
   "metadata": {},
   "outputs": [],
   "source": [
    "test_border = 1000\n",
    "X_train, y_train = dataset.data[test_border:], dataset.target[test_border:]\n",
    "X_test, y_test = dataset.data[:test_border], dataset.target[:test_border]"
   ]
  },
  {
   "cell_type": "code",
   "execution_count": 92,
   "metadata": {},
   "outputs": [],
   "source": [
    "my_knn = KnnClassifire(k=3)\n",
    "scikit_knn = KNeighborsClassifier(n_neighbors=3)"
   ]
  },
  {
   "cell_type": "markdown",
   "metadata": {},
   "source": [
    "Моя реализация KNN"
   ]
  },
  {
   "cell_type": "code",
   "execution_count": 93,
   "metadata": {},
   "outputs": [
    {
     "name": "stdout",
     "output_type": "stream",
     "text": [
      "accuracy: 0.946\n"
     ]
    }
   ],
   "source": [
    "my_knn.fit(X_train, y_train)\n",
    "y_pred = my_knn.predict(X_test)\n",
    "accuracy = accuracy_score(y_test, y_pred)\n",
    "print(\"accuracy: {}\".format(accuracy))"
   ]
  },
  {
   "cell_type": "markdown",
   "metadata": {},
   "source": [
    "Библиотечный KNN"
   ]
  },
  {
   "cell_type": "code",
   "execution_count": 94,
   "metadata": {},
   "outputs": [
    {
     "name": "stdout",
     "output_type": "stream",
     "text": [
      "accuracy: 0.946\n"
     ]
    }
   ],
   "source": [
    "scikit_knn.fit(X_train, y_train)\n",
    "y_pred = scikit_knn.predict(X_test)\n",
    "accuracy = accuracy_score(y_test, y_pred)\n",
    "print(\"accuracy: {}\".format(accuracy))"
   ]
  },
  {
   "cell_type": "markdown",
   "metadata": {},
   "source": [
    "Для регрессии"
   ]
  },
  {
   "cell_type": "code",
   "execution_count": 95,
   "metadata": {},
   "outputs": [],
   "source": [
    "dataset = datasets.load_diabetes()\n",
    "test_border = 200\n",
    "X_train, y_train = dataset.data[test_border:], dataset.target[test_border:]\n",
    "X_test, y_test = dataset.data[:test_border], dataset.target[:test_border]"
   ]
  },
  {
   "cell_type": "code",
   "execution_count": 96,
   "metadata": {},
   "outputs": [],
   "source": [
    "my_knn = KnnRegressor(k=35)\n",
    "scikit_knn = KNeighborsRegressor(n_neighbors=35)"
   ]
  },
  {
   "cell_type": "markdown",
   "metadata": {},
   "source": [
    "Моя реализация KNNregressor"
   ]
  },
  {
   "cell_type": "code",
   "execution_count": 97,
   "metadata": {},
   "outputs": [
    {
     "name": "stdout",
     "output_type": "stream",
     "text": [
      "R2: 0.3998963298894319\n"
     ]
    }
   ],
   "source": [
    "my_knn.fit(X_train, y_train)\n",
    "y_pred_my_knn = my_knn.predict(X_test)\n",
    "r2_my_knn = r2_score(y_test, y_pred_my_knn)\n",
    "print(\"R2: {}\".format(r2_my_knn))"
   ]
  },
  {
   "cell_type": "markdown",
   "metadata": {},
   "source": [
    "Библиотечная реализация KNeighborsRegressor"
   ]
  },
  {
   "cell_type": "code",
   "execution_count": 98,
   "metadata": {},
   "outputs": [
    {
     "name": "stdout",
     "output_type": "stream",
     "text": [
      "R2: 0.3998963298894319\n"
     ]
    }
   ],
   "source": [
    "scikit_knn.fit(X_train, y_train)\n",
    "y_pred_scikit_knn = scikit_knn.predict(X_test)\n",
    "r2_scikit_knn = r2_score(y_test, y_pred_scikit_knn)\n",
    "print(\"R2: {}\".format(r2_scikit_knn))"
   ]
  },
  {
   "cell_type": "markdown",
   "metadata": {},
   "source": [
    "В целом, обе реализации показывают себя идентично по accuracy и r2_score"
   ]
  }
 ],
 "metadata": {
  "kernelspec": {
   "display_name": "venv",
   "language": "python",
   "name": "python3"
  },
  "language_info": {
   "codemirror_mode": {
    "name": "ipython",
    "version": 3
   },
   "file_extension": ".py",
   "mimetype": "text/x-python",
   "name": "python",
   "nbconvert_exporter": "python",
   "pygments_lexer": "ipython3",
   "version": "3.13.0"
  }
 },
 "nbformat": 4,
 "nbformat_minor": 2
}
