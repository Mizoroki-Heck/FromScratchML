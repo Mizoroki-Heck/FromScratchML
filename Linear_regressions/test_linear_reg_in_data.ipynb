{
 "cells": [
  {
   "cell_type": "code",
   "execution_count": 87,
   "metadata": {},
   "outputs": [],
   "source": [
    "from Linear_regression import MatrixLinearRegression, LinearRegressionGD\n",
    "from sklearn.linear_model import LinearRegression\n",
    "from sklearn.datasets import make_regression\n",
    "import numpy as np"
   ]
  },
  {
   "cell_type": "code",
   "execution_count": 88,
   "metadata": {},
   "outputs": [],
   "source": [
    "np.random.seed(42)\n",
    "X = np.random.rand(100, 3)\n",
    "true_weights = np.array([1.5, -2.0, 0.5, 4.0])\n",
    "X_with_bias = np.insert(X, 0, 1, axis=1)\n",
    "y = X_with_bias.dot(true_weights) + np.random.normal(0, 0.1, size=100)\n",
    "\n",
    "# Разделение на обучающую и тестовую выборки\n",
    "split_idx = int(0.8 * len(X))\n",
    "X_train, X_test = X[:split_idx], X[split_idx:]\n",
    "y_train, y_test = y[:split_idx], y[split_idx:]"
   ]
  },
  {
   "cell_type": "markdown",
   "metadata": {},
   "source": [
    "Линейная регрессия матричным способом"
   ]
  },
  {
   "cell_type": "code",
   "execution_count": 89,
   "metadata": {},
   "outputs": [
    {
     "name": "stdout",
     "output_type": "stream",
     "text": [
      "Веса (Matrix): [ 1.45332089 -1.95671185  0.49695144  4.06293814]\n",
      "Истинные веса: [ 1.5 -2.   0.5  4. ]\n",
      "Среднеквадратичная ошибка (Matrix): 0.007558370569461852\n"
     ]
    }
   ],
   "source": [
    "model_matrix = MatrixLinearRegression()\n",
    "model_matrix.fit(X_train, y_train)\n",
    "\n",
    "print(\"Веса (Matrix):\", model_matrix.weights)\n",
    "print(\"Истинные веса:\", true_weights)\n",
    "y_pred = model_matrix.predict(X_test)\n",
    "print(\"Среднеквадратичная ошибка (Matrix):\", np.mean((y_pred - y_test) ** 2))\n"
   ]
  },
  {
   "cell_type": "markdown",
   "metadata": {},
   "source": [
    "Линейная регрессия с градиентным спусокм"
   ]
  },
  {
   "cell_type": "code",
   "execution_count": 90,
   "metadata": {},
   "outputs": [
    {
     "name": "stdout",
     "output_type": "stream",
     "text": [
      "Веса (GD): [ 1.45339131 -1.95677093  0.49692392  4.06288248]\n",
      "Истинные веса: [ 1.5 -2.   0.5  4. ]\n",
      "Среднеквадратичная ошибка (GD): 0.007557053912213974\n"
     ]
    }
   ],
   "source": [
    "model_gd = LinearRegressionGD(lr=0.01, max_iter=10000)\n",
    "model_gd.fit(X_train, y_train)\n",
    "\n",
    "print(\"Веса (GD):\", model_gd.weights)\n",
    "print(\"Истинные веса:\", true_weights)\n",
    "y_pred_gd = model_gd.predict(X_test)\n",
    "print(\"Среднеквадратичная ошибка (GD):\", np.mean((y_pred_gd - y_test) ** 2))"
   ]
  },
  {
   "cell_type": "markdown",
   "metadata": {},
   "source": [
    "Линейная регрессия scikit_learn"
   ]
  },
  {
   "cell_type": "code",
   "execution_count": 108,
   "metadata": {},
   "outputs": [
    {
     "name": "stdout",
     "output_type": "stream",
     "text": [
      "Веса (Scikit): [ 1.45332089 -1.95671185  0.49695144  4.06293814]\n",
      "Истинные веса: [ 1.5 -2.   0.5  4. ]\n",
      "Среднеквадратичная ошибка (Scikit): 0.007558370569461721\n"
     ]
    }
   ],
   "source": [
    "model_scikit = LinearRegression()\n",
    "model_scikit.fit(X_train, y_train)\n",
    "\n",
    "print(\"Веса (Scikit):\", np.concatenate([model_scikit.intercept_.reshape(1,), model_scikit.coef_], axis=0))\n",
    "print(\"Истинные веса:\", true_weights)\n",
    "y_pred_scikit = model_scikit.predict(X_test)\n",
    "print(\"Среднеквадратичная ошибка (Scikit):\", np.mean((y_pred_scikit - y_test) ** 2))"
   ]
  },
  {
   "cell_type": "code",
   "execution_count": 111,
   "metadata": {},
   "outputs": [
    {
     "name": "stdout",
     "output_type": "stream",
     "text": [
      "MSE (Matrix): 0.0076, MSE (GD): 0.0076, MSE (Scikit): 0.0076\n"
     ]
    }
   ],
   "source": [
    "mse_matrix = np.mean((model_matrix.predict(X_test) - y_test) ** 2)\n",
    "mse_gd = np.mean((model_gd.predict(X_test) - y_test) ** 2)\n",
    "mse_scikit = np.mean((model_scikit.predict(X_test) - y_test) ** 2)\n",
    "print(f\"MSE (Matrix): {mse_matrix:.4f}, MSE (GD): {mse_gd:.4f}, MSE (Scikit): {mse_scikit:.4f}\")"
   ]
  }
 ],
 "metadata": {
  "kernelspec": {
   "display_name": "venv",
   "language": "python",
   "name": "python3"
  },
  "language_info": {
   "codemirror_mode": {
    "name": "ipython",
    "version": 3
   },
   "file_extension": ".py",
   "mimetype": "text/x-python",
   "name": "python",
   "nbconvert_exporter": "python",
   "pygments_lexer": "ipython3",
   "version": "3.13.0"
  }
 },
 "nbformat": 4,
 "nbformat_minor": 2
}
